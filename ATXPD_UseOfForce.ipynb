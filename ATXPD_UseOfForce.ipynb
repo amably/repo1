{
 "cells": [
  {
   "cell_type": "markdown",
   "metadata": {},
   "source": [
    "# Use of Force in Austin\n",
    "\n",
    "### This is a dataset from the center for policing equality, uploaded to Kaggle (https://www.kaggle.com/center-for-policing-equity/data-science-for-good).  \n",
    "\n",
    "### Kaggle Competion Problem statement:\n",
    "#### How do you measure justice? And how do you solve the problem of racism in policing? We look for factors that drive racial disparities in policing by analyzing census and police department deployment data. The ultimate goal is to inform police agencies where they can make improvements by identifying deployment areas where racial disparities exist and are not explainable by crime rates and poverty levels.\n",
    "\n",
    "#### Our biggest challenge is automating the combination of police data, census-level data, and other socioeconomic factors. Shapefiles are unusual and messy -- which makes it difficult to, for instance, generate maps of police behavior with precinct boundary layers mixed with census layers. Police incident data are also very difficult to normalize and standardize across departments since there are no federal standards for data collection.\n",
    "\n",
    "#### I will be using this dataset to practice working with shapefiles and dataframes\n",
    "\n",
    "## Working with the shapefiles\n",
    "Import required libraries and read in shapefile and Use of Force (UoF) data\n"
   ]
  },
  {
   "cell_type": "code",
   "execution_count": 1,
   "metadata": {},
   "outputs": [
    {
     "data": {
      "text/html": [
       "<script>requirejs.config({paths: { 'plotly': ['https://cdn.plot.ly/plotly-latest.min']},});if(!window.Plotly) {{require(['plotly'],function(plotly) {window.Plotly=plotly;});}}</script>"
      ],
      "text/vnd.plotly.v1+html": [
       "<script>requirejs.config({paths: { 'plotly': ['https://cdn.plot.ly/plotly-latest.min']},});if(!window.Plotly) {{require(['plotly'],function(plotly) {window.Plotly=plotly;});}}</script>"
      ]
     },
     "metadata": {},
     "output_type": "display_data"
    }
   ],
   "source": [
    "import numpy as np\n",
    "import pandas as pd\n",
    "import seaborn as sns\n",
    "import matplotlib.pyplot as plt\n",
    "from pprint import pprint\n",
    "import os\n",
    "\n",
    "from plotly.offline import init_notebook_mode, iplot\n",
    "import plotly.graph_objs as go\n",
    "import plotly.plotly as py\n",
    "from plotly import tools\n",
    "import plotly.figure_factory as ff\n",
    "\n",
    "import geopandas as gpd\n",
    "\n",
    "init_notebook_mode(connected=True)\n",
    "%matplotlib inline"
   ]
  },
  {
   "cell_type": "code",
   "execution_count": 4,
   "metadata": {},
   "outputs": [
    {
     "name": "stdout",
     "output_type": "stream",
     "text": [
      "(9483, 29)\n",
      "      RIN  PRIMARY_KEY  INCIDENT_DATE LOCATION_DISTRICT    INCIDENT_REASON  \\\n",
      "0     RIN  Primary Key  Date Occurred      Area Command  Nature of Contact   \n",
      "1  156701   2015541517      2/24/2015                FR     VIEWED OFFENSE   \n",
      "2  161046  20151510003      5/31/2015                GE     VIEWED OFFENSE   \n",
      "3  161381  20151510003      5/31/2015                GE     VIEWED OFFENSE   \n",
      "4  142588   2014111929      1/11/2014                HE       TRAFFIC STOP   \n",
      "\n",
      "                         REASON_FOR_FORCE              SUBJECT_ID  \\\n",
      "0                             Reason Desc       Master Subject ID   \n",
      "1  NECESSARY TO EFFECT ARREST / DETENTION   167510327: 2015541517   \n",
      "2  NECESSARY TO EFFECT ARREST / DETENTION  459191174: 20151510003   \n",
      "3         IN CUSTODY, MAINTAINING CONTROL  459191174: 20151510003   \n",
      "4   NECESSARY TO DEFEND REPORTING OFFICER   198377769: 2014111929   \n",
      "\n",
      "  SUBJECT_GENDER SUBJECT_RACE  SUBJECT_ROLE        ...          \\\n",
      "0    Subject Sex         Race  Subject Role        ...           \n",
      "1              M     Hispanic           NaN        ...           \n",
      "2              M     Hispanic           NaN        ...           \n",
      "3              M     Hispanic           NaN        ...           \n",
      "4              M        Black       SUSPECT        ...           \n",
      "\n",
      "                  Unnamed: 19  OFFICER_YEARS_ON_FORCE  Y_COORDINATE  \\\n",
      "0   Officer Organization Desc  Officer Yrs of Service  X-Coordinate   \n",
      "1  CRIMINAL INTERDICTION / K9                       3       3100341   \n",
      "2     GEORGE 300 REG I PATROL                       5       3115535   \n",
      "3     GEORGE 300 REG I PATROL                       7       3115535   \n",
      "4    HENRY 700 REG III PATROL                       4       3117503   \n",
      "\n",
      "  Y_COORDINATE.1    LOCATION_DISTRICT.1  \\\n",
      "0   Y-Coordinate  City Council District   \n",
      "1       10030899                      5   \n",
      "2       10070296                      9   \n",
      "3       10070296                      9   \n",
      "4       10057313                    NaN   \n",
      "\n",
      "  LOCATION_FULL_STREET_ADDRESS_OR_INTERSECTION LOCATION_CITY LOCATION_STATE  \\\n",
      "0                                  Geolocation          City          State   \n",
      "1                        9900 BLOCK S IH 35 SB        Austin             TX   \n",
      "2                                 409 E 6TH ST        Austin             TX   \n",
      "3                                 409 E 6TH ST        Austin             TX   \n",
      "4                      BURTON DR / E OLTORF ST        Austin             TX   \n",
      "\n",
      "  LOCATION_LATITUDE LOCATION_LONGITUDE  \n",
      "0          Latitude          Longitude  \n",
      "1               NaN                NaN  \n",
      "2               NaN                NaN  \n",
      "3               NaN                NaN  \n",
      "4               NaN                NaN  \n",
      "\n",
      "[5 rows x 29 columns]\n"
     ]
    },
    {
     "data": {
      "text/plain": [
       "<matplotlib.axes._subplots.AxesSubplot at 0x7efaba8>"
      ]
     },
     "execution_count": 4,
     "metadata": {},
     "output_type": "execute_result"
    },
    {
     "data": {
      "image/png": "[encoded data removed]",
      "text/plain": [
       "<matplotlib.figure.Figure at 0xcefcb70>"
      ]
     },
     "metadata": {},
     "output_type": "display_data"
    }
   ],
   "source": [
    "filepath  = r'C:\\Users\\Laura\\OneDrive\\Kaggle\\data-science-for-good\\Dept_37-00027'\n",
    "atx_uof = pd.read_csv(filepath + '\\\\37-00027_UOF-P_2014-2016_prepped.csv')\n",
    "\n",
    "map_filepath = (filepath +'\\\\37-00027_Shapefiles\\APD_DIST.shp')\n",
    "\n",
    "atx_map = gpd.read_file(map_filepath)\n",
    "\n",
    "print(atx_uof.shape)\n",
    "print(atx_uof.head())\n",
    "atx_map.plot()"
   ]
  },
  {
   "cell_type": "code",
   "execution_count": 16,
   "metadata": {},
   "outputs": [],
   "source": [
    "atx_uof = atx_uof.drop(atx_uof.index[0])"
   ]
  },
  {
   "cell_type": "code",
   "execution_count": 19,
   "metadata": {},
   "outputs": [
    {
     "data": {
      "text/plain": [
       "array([nan, '30.2669', '30.19693', '30.267346', '30.307201', '30.411555',\n",
       "       '30.274242', '30.334982', '30.270847', '30.388491', '30.304577',\n",
       "       '30.338618', '30.267363', '30.267431', '30.267442', '30.318499',\n",
       "       '30.265895', '30.287932', '30.267899', '30.267011', '30.212858',\n",
       "       '30.252241', '30.207908', '30.178379', '30.267299', '30.402336',\n",
       "       '30.270393', '30.266989', '30.31251', '30.270012', '30.253201',\n",
       "       '30.371749', '30.266739', '30.237305', '30.270196', '30.263775',\n",
       "       '30.320428', '30.297303', '30.329685', '30.228893', '30.194171',\n",
       "       '30.267056', '30.240015', '30.267644', '30.267624', '30.196836',\n",
       "       '30.274993', '30.182167', '30.23567', '30.226504', '30.289047',\n",
       "       '30.296985', '30.28946', '30.319658', '30.14774', '30.363177',\n",
       "       '30.351258', '30.342184', '30.343475', '30.367685', '30.268139',\n",
       "       '30.270918', '30.316824', '30.412048', '30.274515', '30.271776',\n",
       "       '30.214108', '30.370107', '30.202311', '30.27381', '30.427767',\n",
       "       '30.197194', '30.287433', '30.360709', '30.320761', '30.440571',\n",
       "       '30.174113', '30.273647', '30.286592', '30.216073', '30.264708',\n",
       "       '30.283098', '30.330891', '30.271278', '30.329737', '30.149967',\n",
       "       '30.230942', '30.375867', '30.298301', '30.266993', '30.267127',\n",
       "       '30.396234', '30.267961', '30.264788', '30.412511', '30.228719',\n",
       "       '30.218684', '30.214307', '30.362626', '30.267487', '30.267637',\n",
       "       '30.218782', '30.325382', '30.30511', '30.267809', '30.397736',\n",
       "       '30.366866', '30.372217', '30.267212', '30.174031', '30.278047',\n",
       "       '30.25853', '30.267703', '30.158282', '30.182727', '30.36549',\n",
       "       '30.232355', '30.228823', '30.231297', '30.374933', '30.191658',\n",
       "       '30.287695', '30.237723', '30.23165', '30.221165', '30.328248',\n",
       "       '30.230465', '30.438132', '30.362965', '30.35654', '30.231272',\n",
       "       '30.331176', '30.323953', '30.233861', '30.374087', '30.247771',\n",
       "       '30.368461', '30.280157', '30.228866', '30.315309', '30.44025',\n",
       "       '30.412143', '30.235166', '30.313718', '30.349146', '30.406859',\n",
       "       '30.251162', '30.255443', '30.240844', '30.357749', '30.266943',\n",
       "       '30.392618', '30.308808', '30.192307', '30.394225', '30.388504',\n",
       "       '30.149133', '30.262721', '30.330691', '30.195151', '30.314092',\n",
       "       '30.323992', '30.286762', '30.274811', '30.181594', '30.363566',\n",
       "       '30.282991', '30.321562', '30.231119', '30.346506', '30.1998',\n",
       "       '30.336388', '30.326783', '30.275862', '30.388783', '30.338976',\n",
       "       '30.36594', '30.234657', '30.358454', '30.212529', '30.27626',\n",
       "       '30.354464', '30.29559', '30.439854', '30.423635', '30.343878',\n",
       "       '30.398666', '30.266897', '30.268665', '30.310704', '30.43368',\n",
       "       '30.379364', '30.290095', '30.258841', '30.391296', '30.266962',\n",
       "       '30.289955', '30.213609', '30.26635', '30.22822', '30.359502',\n",
       "       '30.228038', '30.241459', '30.284683', '30.278373', '30.290212',\n",
       "       '30.263294', '30.26593', '30.331323', '30.167972', '30.279593',\n",
       "       '30.266362', '30.389143', '30.359494', '30.370018', '30.469731',\n",
       "       '30.267716', '30.302422', '30.283343', '30.23152', '30.151602',\n",
       "       '30.231878', '30.388997', '30.370348', '30.229498', '30.254859',\n",
       "       '30.262452', '30.265971', '30.233536', '30.410269', '30.261301',\n",
       "       '30.183191', '30.194108', '30.308652', '30.207162', '30.260927',\n",
       "       '30.344226', '30.36237', '30.310304', '30.314159', '30.391247',\n",
       "       '30.197683', '30.480661', '30.368088', '30.376621', '30.35567',\n",
       "       '30.310734', '30.34663', '30.293436', '30.403174', '30.355233',\n",
       "       '30.187868', '30.262007', '30.223585', '30.318544', '30.30507',\n",
       "       '30.227155', '30.333707', '30.369129', '30.375274', '30.266836',\n",
       "       '30.204492', '30.267231', '30.26747', '30.266686', '30.266913',\n",
       "       '30.336995', '30.233369', '30.230214', '30.297329', '30.35403',\n",
       "       '30.288491', '30.311042', '30.233208', '30.32712', '30.374262',\n",
       "       '30.199114', '30.234742', '30.36458', '30.327536', '30.278602',\n",
       "       '30.223554', '30.192768', '30.226858', '30.305226', '30.271584',\n",
       "       '30.460563', '30.202654', '30.299146', '30.371984', '30.321209',\n",
       "       '30.26282', '30.281053', '30.371635', '30.293676', '30.39531',\n",
       "       '30.313879', '30.189176', '30.238295', '30.354731', '30.228573',\n",
       "       '30.229252', '30.275657', '30.368546', '30.233548', '30.306503',\n",
       "       '30.269876', '30.19516', '30.358106', '30.202037', '30.33585',\n",
       "       '30.406656', '30.365822', '30.368263', '30.227315', '30.288451',\n",
       "       '30.320181', '30.169482', '30.44157', '30.312114', '30.158731',\n",
       "       '30.368436', '30.178377', '30.401689', '30.411912', '30.186989',\n",
       "       '30.226367', '30.275199', '30.272981', '30.364102', '30.266109',\n",
       "       '30.328392', '30.233125', '30.238252', '30.18683', '30.446248',\n",
       "       '30.228653', '30.364881', '30.307137', '30.267714', '30.27228',\n",
       "       '30.185421', '30.18247', '30.229845', '30.273799', '30.198238',\n",
       "       '30.353705', '30.344034', '30.406741', '30.286587', '30.334115',\n",
       "       '30.236747', '30.272251', '30.374069', '30.296958', '30.312799',\n",
       "       '30.232132', '30.275797', '30.293454', '30.353383', '30.311174',\n",
       "       '30.432898', '30.410983', '30.240315', '30.184062', '30.412351',\n",
       "       '30.2237', '30.303318', '30.260544', '30.259187', '30.374477',\n",
       "       '30.23043', '30.260504', '30.349781', '30.253476', '30.308021',\n",
       "       '30.193274', '30.228774', '30.217322', '30.266395', '30.148304',\n",
       "       '30.434141', '30.286634', '30.316395', '30.189074', '30.265948',\n",
       "       '30.447576', '30.356977', '30.339447', '30.357477', '30.214965',\n",
       "       '30.339106', '30.266721', '30.286513', '30.303264', '30.266542',\n",
       "       '30.240539', '30.266605', '30.335281', '30.358355', '30.266732',\n",
       "       '30.222848', '30.246152', '30.174482', '30.267648', '30.192977',\n",
       "       '30.324469', '30.347159', '30.207932', '30.175609', '30.450953',\n",
       "       '30.263446', '30.489755', '30.274954', '30.36509', '30.226917',\n",
       "       '30.27699', '30.294194', '30.432125', '30.328527', '30.230085',\n",
       "       '30.26697', '30.266312', '30.35027', '30.190171', '30.235898',\n",
       "       '30.267087', '30.364918', '30.256581', '30.309859', '30.22466',\n",
       "       '30.305237', '30.284041', '30.247751', '30.35776', '30.45803',\n",
       "       '30.191213', '30.191043', '30.286954', '30.270197', '30.322904',\n",
       "       '30.315105', '30.279868', '30.188419', '30.155985', '30.326158',\n",
       "       '30.246245', '30.243234', '30.37769', '30.270134', '30.256433',\n",
       "       '30.205181', '30.274105', '30.1955', '30.257632', '30.355627',\n",
       "       '30.202913', '30.271677', '30.259482', '30.232054', '30.404743',\n",
       "       '30.267266', '30.227757', '30.23573', '30.196141', '30.295373',\n",
       "       '30.298599', '30.191309', '30.266792', '30.271064', '30.197468',\n",
       "       '30.194537', '30.228751', '30.349553', '30.254802', '30.368695',\n",
       "       '30.307862', '30.393233', '30.26696', '30.218005', '30.317917',\n",
       "       '30.238588', '30.267022', '30.368414', '30.293602', '30.155843',\n",
       "       '30.288821', '30.266234', '30.372254', '30.26537', '30.26688',\n",
       "       '30.28121', '30.298186', '30.268021', '30.260774', '30.367606',\n",
       "       '30.232244', '30.267155', '30.323957', '30.279655', '30.265668',\n",
       "       '30.269432', '30.39481', '30.228153', '30.234707', '30.444724',\n",
       "       '30.172549', '30.269524', '30.358309', '30.306718', '30.227145',\n",
       "       '30.314126', '30.261249', '30.304258', '30.370917', '30.360055',\n",
       "       '30.414694', '30.214227', '30.365731', '30.351584', '30.208249',\n",
       "       '30.233709', '30.322282', '30.371037', '30.260571', '30.205783',\n",
       "       '30.250396', '30.277988', '30.183715', '30.356034', '30.274804',\n",
       "       '30.242565', '30.372656', '30.265972', '30.392352', '30.399905',\n",
       "       '30.267424', '30.246247', '30.363854', '30.266112', '30.266777',\n",
       "       '30.359302', '30.322016', '30.329371', '30.245536', '30.231221',\n",
       "       '30.267528', '30.310773', '30.305053', '30.267326', '30.187915',\n",
       "       '30.286839', '30.147867', '30.289818', '30.247186', '30.350097',\n",
       "       '30.235496', '30.195862', '30.267173', '30.229425', '30.390347',\n",
       "       '30.16184', '30.192498', '30.284628', '30.266481', '30.233436',\n",
       "       '30.287755', '30.222593', '30.40921', '30.372372', '30.284172',\n",
       "       '30.349209', '30.234568', '30.293204', '30.223207', '30.195735',\n",
       "       '30.261344', '30.254028', '30.285029', '30.267288', '30.163652',\n",
       "       '30.17786', '30.300125', '30.26189', '30.240639', '30.355113',\n",
       "       '30.315667', '30.284949', '30.210573', '30.271537', '30.351361',\n",
       "       '30.251364', '30.230002', '30.266417', '30.282543', '30.256378',\n",
       "       '30.333242', '30.188565', '30.327415', '30.268086', '30.299307',\n",
       "       '30.330625', '30.169727', '30.264888', '30.445807', '30.193579',\n",
       "       '30.29053', '30.267307', '30.43807', '30.19496', '30.240805',\n",
       "       '30.354123', '30.350685', '30.222542', '30.258638', '30.248038',\n",
       "       '30.200266', '30.201591', '30.375371', '30.189222', '30.231319',\n",
       "       '30.263315', '30.367668', '30.26726', '30.376139', '30.344109',\n",
       "       '30.226384', '30.208216', '30.241956', '30.277097', '30.199801',\n",
       "       '30.267248', '30.367286', '30.37919', '30.358412', '30.375848',\n",
       "       '30.375178', '30.364092', '30.26716', '30.317064', '30.251523',\n",
       "       '30.302209', '30.266688', '30.264489', '30.314419', '30.275428',\n",
       "       '30.206824', '30.373193', '30.414226', '30.200736', '30.331171',\n",
       "       '30.309327', '30.265368', '30.24945', '30.268521', '30.26677',\n",
       "       '30.269938', '30.201519', '30.166144', '30.233426', '30.36203',\n",
       "       '30.442293', '30.352335', '30.409225', '30.275285', '30.293686',\n",
       "       '30.435964', '30.244122', '30.161562', '30.266407', '30.393285',\n",
       "       '30.2651', '30.23664', '30.275174', '30.213763', '30.288252',\n",
       "       '30.256266', '30.235447', '30.17989', '30.237897', '30.194484',\n",
       "       '30.275446', '30.226573', '30.367346', '30.183434', '30.288396',\n",
       "       '30.377185', '30.216763', '30.362538', '30.267039', '30.237786',\n",
       "       '30.265358', '30.232041', '30.214642', '30.292041', '30.336203',\n",
       "       '30.368114', '30.262712', '30.269158', '30.178698', '30.174378',\n",
       "       '30.345616', '30.207047', '30.404433', '30.190527', '30.254419',\n",
       "       '30.224918', '30.231644', '30.179452', '30.372002', '30.293092',\n",
       "       '30.383169', '30.16718', '30.198153', '30.180076', '30.232047',\n",
       "       '30.347937', '30.234873', '30.260122', '30.292831', '30.189233',\n",
       "       '30.171521', '30.350824', '30.224212', '30.280359', '30.293481',\n",
       "       '30.33939', '30.365398', '30.385903', '30.251743', '30.184866',\n",
       "       '30.261758', '30.232158', '30.273108', '30.201243', '30.319154',\n",
       "       '30.319492', '30.440487', '30.160801', '30.180948', '30.270459',\n",
       "       '30.416344', '30.315477', '30.399977', '30.28777', '30.194846',\n",
       "       '30.239233', '30.416467', '30.414783', '30.277153', '30.304312',\n",
       "       '30.199494', '30.306348', '30.372536', '30.323411', '30.3122',\n",
       "       '30.381222', '30.215256', '30.393043', '30.268593', '30.260492',\n",
       "       '30.234878', '30.269441', '30.282711', '30.256556', '30.292691',\n",
       "       '30.284522', '30.344599', '30.321956', '30.262451', '30.371756',\n",
       "       '30.385647', '30.298785', '30.381761', '30.334301', '30.214565',\n",
       "       '30.227745', '30.365637', '30.329942', '30.290529', '30.453364',\n",
       "       '30.269548', '30.214185', '30.20549', '30.261716', '30.454754',\n",
       "       '30.330012', '30.151413', '30.203721', '30.2571', '30.261061',\n",
       "       '30.267138', '30.442949', '30.151764', '30.26816', '30.20529',\n",
       "       '30.405745', '30.148263', '30.296954', '30.190271', '30.257086',\n",
       "       '30.282172', '30.373252', '30.265883', '30.218011', '30.200446',\n",
       "       '30.267466', '30.185378', '30.202238', '30.369208', '30.229974',\n",
       "       '30.348085', '30.354979', '30.308603', '30.194102', '30.158175',\n",
       "       '30.194943', '30.224127', '30.194825', '30.27736', '30.236697',\n",
       "       '30.253829', '30.24544', '30.19748', '30.226795', '30.259645',\n",
       "       '30.328847', '30.240966', '30.218723', '30.245046', '30.273581',\n",
       "       '30.230408', '30.229722', '30.267575', '30.355735', '30.245791',\n",
       "       '30.242202', '30.220613', '30.398693', '30.228682', '30.267892',\n",
       "       '30.28447', '30.229779', '30.184468', '30.271931', '30.262196',\n",
       "       '30.306075', '30.285604', '30.268244', '30.260609', '30.222161',\n",
       "       '30.34641', '30.219539', '30.22579', '30.243639', '30.185983',\n",
       "       '30.238024', '30.295744', '30.268602', '30.44776', '30.264137',\n",
       "       '30.45661', '30.233477', '30.277465', '30.398696', '30.225688',\n",
       "       '30.183727', '30.197451', '30.348383', '30.265372', '30.474349',\n",
       "       '30.30245', '30.224926', '30.268057', '30.41307', '30.397502',\n",
       "       '30.266582', '30.429652', '30.220402', '30.242024', '30.174075'],\n",
       "      dtype=object)"
      ]
     },
     "execution_count": 19,
     "metadata": {},
     "output_type": "execute_result"
    }
   ],
   "source": [
    "atx_uof['LOCATION_LATITUDE'].unique()"
   ]
  },
  {
   "cell_type": "markdown",
   "metadata": {},
   "source": [
    "As we're interested in combining this with the location data, we can remove any rows that do not have longitude or latitude info. Additionally, we should make sure the longitude and latitude are numerical values."
   ]
  },
  {
   "cell_type": "code",
   "execution_count": 23,
   "metadata": {},
   "outputs": [],
   "source": [
    "atx_uof = atx_uof.dropna(subset=['LOCATION_LATITUDE', 'LOCATION_LONGITUDE'])\n",
    "atx_uof[['LOCATION_LATITUDE', 'LOCATION_LONGITUDE']] = atx_uof[['LOCATION_LATITUDE','LOCATION_LONGITUDE']].apply(pd.to_numeric)"
   ]
  },
  {
   "cell_type": "code",
   "execution_count": null,
   "metadata": {
    "collapsed": true
   },
   "outputs": [],
   "source": []
  }
 ],
 "metadata": {
  "kernelspec": {
   "display_name": "Python 3",
   "language": "python",
   "name": "python3"
  },
  "language_info": {
   "codemirror_mode": {
    "name": "ipython",
    "version": 3
   },
   "file_extension": ".py",
   "mimetype": "text/x-python",
   "name": "python",
   "nbconvert_exporter": "python",
   "pygments_lexer": "ipython3",
   "version": "3.6.3"
  }
 },
 "nbformat": 4,
 "nbformat_minor": 2
}
