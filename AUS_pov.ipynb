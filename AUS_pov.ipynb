{
 "cells": [
  {
   "cell_type": "markdown",
   "metadata": {},
   "source": [
    "# How do you measure justice\n",
    "\n",
    "## Problem statement:\n",
    "#### How do you measure justice? And how do you solve the problem of racism in policing? We look for factors that drive racial disparities in policing by analyzing census and police department deployment data. The ultimate goal is to inform police agencies where they can make improvements by identifying deployment areas where racial disparities exist and are not explainable by crime rates and poverty levels.\n",
    "\n",
    "#### Our biggest challenge is automating the combination of police data, census-level data, and other socioeconomic factors. Shapefiles are unusual and messy -- which makes it difficult to, for instance, generate maps of police behavior with precinct boundary layers mixed with census layers. Police incident data are also very difficult to normalize and standardize across departments since there are no federal standards for data collection.\n",
    "\n"
   ]
  },
  {
   "cell_type": "markdown",
   "metadata": {},
   "source": [
    "### Initial data exploration\n",
    "\n",
    "Import required libraries"
   ]
  },
  {
   "cell_type": "code",
   "execution_count": 45,
   "metadata": {},
   "outputs": [],
   "source": [
    "import numpy as np\n",
    "import pandas as pd\n",
    "import seaborn as sns\n",
    "import geopandas as gpd\n",
    "import matplotlib.pyplot as plt\n",
    "from pprint import pprint\n",
    "import os\n",
    "\n",
    "%matplotlib inline"
   ]
  },
  {
   "cell_type": "markdown",
   "metadata": {},
   "source": [
    "### Department Files\n",
    "#### Information from different police deprtments is organised into files, displayed below"
   ]
  },
  {
   "cell_type": "code",
   "execution_count": 16,
   "metadata": {},
   "outputs": [
    {
     "name": "stdout",
     "output_type": "stream",
     "text": [
      "['Dept_11-00091',\n",
      " 'Dept_23-00089',\n",
      " 'Dept_35-00103',\n",
      " 'Dept_37-00027',\n",
      " 'Dept_37-00049',\n",
      " 'Dept_49-00009']\n"
     ]
    }
   ],
   "source": [
    "filepath  = r'C:\\Users\\Laura\\OneDrive\\Kaggle\\data-science-for-good'\n",
    "dept = []\n",
    "for f in os.listdir(filepath):\n",
    "    if f.startswith('Dept'):\n",
    "        dept.append(f)\n",
    "pprint(depts)"
   ]
  },
  {
   "cell_type": "markdown",
   "metadata": {},
   "source": [
    "#### Each department folder contains a shapefile folder and a data folder. I have chosen to initially explore the Austin police department data, as it is the city I live in. \n",
    "Lets first look at the information provided by APD"
   ]
  },
  {
   "cell_type": "code",
   "execution_count": 26,
   "metadata": {},
   "outputs": [
    {
     "data": {
      "text/plain": [
       "['37-00027_ACS_education-attainment',\n",
       " '37-00027_ACS_education-attainment-over-25',\n",
       " '37-00027_ACS_owner-occupied-housing',\n",
       " '37-00027_ACS_poverty',\n",
       " '37-00027_ACS_race-sex-age']"
      ]
     },
     "execution_count": 26,
     "metadata": {},
     "output_type": "execute_result"
    }
   ],
   "source": [
    "APD_filepath = filepath + '\\Dept_37-00027\\\\37-00027_ACS_data' \n",
    "APD_files = os.listdir(APD_filepath)\n",
    "APD_files"
   ]
  },
  {
   "cell_type": "markdown",
   "metadata": {},
   "source": [
    "APD has provided information regarding education level, over 25 eductation level, housing, poverty and race/sex/age\n"
   ]
  },
  {
   "cell_type": "markdown",
   "metadata": {},
   "source": [
    "#### Exploration 1: APD information on poverty\n",
    "Load data "
   ]
  },
  {
   "cell_type": "code",
   "execution_count": 49,
   "metadata": {},
   "outputs": [
    {
     "name": "stdout",
     "output_type": "stream",
     "text": [
      "(219, 369)\n"
     ]
    },
    {
     "data": {
      "text/html": [
       "<div>\n",
       "<style scoped>\n",
       "    .dataframe tbody tr th:only-of-type {\n",
       "        vertical-align: middle;\n",
       "    }\n",
       "\n",
       "    .dataframe tbody tr th {\n",
       "        vertical-align: top;\n",
       "    }\n",
       "\n",
       "    .dataframe thead th {\n",
       "        text-align: right;\n",
       "    }\n",
       "</style>\n",
       "<table border=\"1\" class=\"dataframe\">\n",
       "  <thead>\n",
       "    <tr style=\"text-align: right;\">\n",
       "      <th></th>\n",
       "      <th>GEO.id</th>\n",
       "      <th>GEO.id2</th>\n",
       "      <th>GEO.display-label</th>\n",
       "      <th>HC01_EST_VC01</th>\n",
       "      <th>HC01_MOE_VC01</th>\n",
       "      <th>HC02_EST_VC01</th>\n",
       "      <th>HC02_MOE_VC01</th>\n",
       "      <th>HC03_EST_VC01</th>\n",
       "      <th>HC03_MOE_VC01</th>\n",
       "      <th>HC01_EST_VC03</th>\n",
       "      <th>...</th>\n",
       "      <th>HC02_EST_VC78</th>\n",
       "      <th>HC02_MOE_VC78</th>\n",
       "      <th>HC03_EST_VC78</th>\n",
       "      <th>HC03_MOE_VC78</th>\n",
       "      <th>HC01_EST_VC79</th>\n",
       "      <th>HC01_MOE_VC79</th>\n",
       "      <th>HC02_EST_VC79</th>\n",
       "      <th>HC02_MOE_VC79</th>\n",
       "      <th>HC03_EST_VC79</th>\n",
       "      <th>HC03_MOE_VC79</th>\n",
       "    </tr>\n",
       "  </thead>\n",
       "  <tbody>\n",
       "    <tr>\n",
       "      <th>0</th>\n",
       "      <td>Id</td>\n",
       "      <td>Id2</td>\n",
       "      <td>Geography</td>\n",
       "      <td>Total; Estimate; Population for whom poverty s...</td>\n",
       "      <td>Total; Margin of Error; Population for whom po...</td>\n",
       "      <td>Below poverty level; Estimate; Population for ...</td>\n",
       "      <td>Below poverty level; Margin of Error; Populati...</td>\n",
       "      <td>Percent below poverty level; Estimate; Populat...</td>\n",
       "      <td>Percent below poverty level; Margin of Error; ...</td>\n",
       "      <td>Total; Estimate; AGE - Under 18 years</td>\n",
       "      <td>...</td>\n",
       "      <td>Below poverty level; Estimate; Worked less tha...</td>\n",
       "      <td>Below poverty level; Margin of Error; Worked l...</td>\n",
       "      <td>Percent below poverty level; Estimate; Worked ...</td>\n",
       "      <td>Percent below poverty level; Margin of Error; ...</td>\n",
       "      <td>Total; Estimate; Did not work</td>\n",
       "      <td>Total; Margin of Error; Did not work</td>\n",
       "      <td>Below poverty level; Estimate; Did not work</td>\n",
       "      <td>Below poverty level; Margin of Error; Did not ...</td>\n",
       "      <td>Percent below poverty level; Estimate; Did not...</td>\n",
       "      <td>Percent below poverty level; Margin of Error; ...</td>\n",
       "    </tr>\n",
       "    <tr>\n",
       "      <th>1</th>\n",
       "      <td>1400000US48453000101</td>\n",
       "      <td>48453000101</td>\n",
       "      <td>Census Tract 1.01, Travis County, Texas</td>\n",
       "      <td>4270</td>\n",
       "      <td>276</td>\n",
       "      <td>270</td>\n",
       "      <td>104</td>\n",
       "      <td>6.3</td>\n",
       "      <td>2.4</td>\n",
       "      <td>821</td>\n",
       "      <td>...</td>\n",
       "      <td>127</td>\n",
       "      <td>66</td>\n",
       "      <td>30.6</td>\n",
       "      <td>16.4</td>\n",
       "      <td>420</td>\n",
       "      <td>99</td>\n",
       "      <td>117</td>\n",
       "      <td>65</td>\n",
       "      <td>27.9</td>\n",
       "      <td>14.2</td>\n",
       "    </tr>\n",
       "    <tr>\n",
       "      <th>2</th>\n",
       "      <td>1400000US48453000102</td>\n",
       "      <td>48453000102</td>\n",
       "      <td>Census Tract 1.02, Travis County, Texas</td>\n",
       "      <td>2570</td>\n",
       "      <td>171</td>\n",
       "      <td>81</td>\n",
       "      <td>74</td>\n",
       "      <td>3.2</td>\n",
       "      <td>2.9</td>\n",
       "      <td>571</td>\n",
       "      <td>...</td>\n",
       "      <td>4</td>\n",
       "      <td>5</td>\n",
       "      <td>2.5</td>\n",
       "      <td>3.2</td>\n",
       "      <td>255</td>\n",
       "      <td>72</td>\n",
       "      <td>43</td>\n",
       "      <td>32</td>\n",
       "      <td>16.9</td>\n",
       "      <td>11.4</td>\n",
       "    </tr>\n",
       "    <tr>\n",
       "      <th>3</th>\n",
       "      <td>1400000US48453000203</td>\n",
       "      <td>48453000203</td>\n",
       "      <td>Census Tract 2.03, Travis County, Texas</td>\n",
       "      <td>1258</td>\n",
       "      <td>174</td>\n",
       "      <td>423</td>\n",
       "      <td>142</td>\n",
       "      <td>33.6</td>\n",
       "      <td>9.1</td>\n",
       "      <td>49</td>\n",
       "      <td>...</td>\n",
       "      <td>169</td>\n",
       "      <td>73</td>\n",
       "      <td>49.9</td>\n",
       "      <td>13.2</td>\n",
       "      <td>207</td>\n",
       "      <td>96</td>\n",
       "      <td>160</td>\n",
       "      <td>90</td>\n",
       "      <td>77.3</td>\n",
       "      <td>15.7</td>\n",
       "    </tr>\n",
       "    <tr>\n",
       "      <th>4</th>\n",
       "      <td>1400000US48453000204</td>\n",
       "      <td>48453000204</td>\n",
       "      <td>Census Tract 2.04, Travis County, Texas</td>\n",
       "      <td>3042</td>\n",
       "      <td>199</td>\n",
       "      <td>589</td>\n",
       "      <td>171</td>\n",
       "      <td>19.4</td>\n",
       "      <td>5.7</td>\n",
       "      <td>426</td>\n",
       "      <td>...</td>\n",
       "      <td>341</td>\n",
       "      <td>137</td>\n",
       "      <td>55.8</td>\n",
       "      <td>14.7</td>\n",
       "      <td>244</td>\n",
       "      <td>91</td>\n",
       "      <td>168</td>\n",
       "      <td>80</td>\n",
       "      <td>68.9</td>\n",
       "      <td>17.5</td>\n",
       "    </tr>\n",
       "  </tbody>\n",
       "</table>\n",
       "<p>5 rows × 369 columns</p>\n",
       "</div>"
      ],
      "text/plain": [
       "                 GEO.id      GEO.id2                        GEO.display-label  \\\n",
       "0                    Id          Id2                                Geography   \n",
       "1  1400000US48453000101  48453000101  Census Tract 1.01, Travis County, Texas   \n",
       "2  1400000US48453000102  48453000102  Census Tract 1.02, Travis County, Texas   \n",
       "3  1400000US48453000203  48453000203  Census Tract 2.03, Travis County, Texas   \n",
       "4  1400000US48453000204  48453000204  Census Tract 2.04, Travis County, Texas   \n",
       "\n",
       "                                       HC01_EST_VC01  \\\n",
       "0  Total; Estimate; Population for whom poverty s...   \n",
       "1                                               4270   \n",
       "2                                               2570   \n",
       "3                                               1258   \n",
       "4                                               3042   \n",
       "\n",
       "                                       HC01_MOE_VC01  \\\n",
       "0  Total; Margin of Error; Population for whom po...   \n",
       "1                                                276   \n",
       "2                                                171   \n",
       "3                                                174   \n",
       "4                                                199   \n",
       "\n",
       "                                       HC02_EST_VC01  \\\n",
       "0  Below poverty level; Estimate; Population for ...   \n",
       "1                                                270   \n",
       "2                                                 81   \n",
       "3                                                423   \n",
       "4                                                589   \n",
       "\n",
       "                                       HC02_MOE_VC01  \\\n",
       "0  Below poverty level; Margin of Error; Populati...   \n",
       "1                                                104   \n",
       "2                                                 74   \n",
       "3                                                142   \n",
       "4                                                171   \n",
       "\n",
       "                                       HC03_EST_VC01  \\\n",
       "0  Percent below poverty level; Estimate; Populat...   \n",
       "1                                                6.3   \n",
       "2                                                3.2   \n",
       "3                                               33.6   \n",
       "4                                               19.4   \n",
       "\n",
       "                                       HC03_MOE_VC01  \\\n",
       "0  Percent below poverty level; Margin of Error; ...   \n",
       "1                                                2.4   \n",
       "2                                                2.9   \n",
       "3                                                9.1   \n",
       "4                                                5.7   \n",
       "\n",
       "                           HC01_EST_VC03  \\\n",
       "0  Total; Estimate; AGE - Under 18 years   \n",
       "1                                    821   \n",
       "2                                    571   \n",
       "3                                     49   \n",
       "4                                    426   \n",
       "\n",
       "                         ...                          \\\n",
       "0                        ...                           \n",
       "1                        ...                           \n",
       "2                        ...                           \n",
       "3                        ...                           \n",
       "4                        ...                           \n",
       "\n",
       "                                       HC02_EST_VC78  \\\n",
       "0  Below poverty level; Estimate; Worked less tha...   \n",
       "1                                                127   \n",
       "2                                                  4   \n",
       "3                                                169   \n",
       "4                                                341   \n",
       "\n",
       "                                       HC02_MOE_VC78  \\\n",
       "0  Below poverty level; Margin of Error; Worked l...   \n",
       "1                                                 66   \n",
       "2                                                  5   \n",
       "3                                                 73   \n",
       "4                                                137   \n",
       "\n",
       "                                       HC03_EST_VC78  \\\n",
       "0  Percent below poverty level; Estimate; Worked ...   \n",
       "1                                               30.6   \n",
       "2                                                2.5   \n",
       "3                                               49.9   \n",
       "4                                               55.8   \n",
       "\n",
       "                                       HC03_MOE_VC78  \\\n",
       "0  Percent below poverty level; Margin of Error; ...   \n",
       "1                                               16.4   \n",
       "2                                                3.2   \n",
       "3                                               13.2   \n",
       "4                                               14.7   \n",
       "\n",
       "                   HC01_EST_VC79                         HC01_MOE_VC79  \\\n",
       "0  Total; Estimate; Did not work  Total; Margin of Error; Did not work   \n",
       "1                            420                                    99   \n",
       "2                            255                                    72   \n",
       "3                            207                                    96   \n",
       "4                            244                                    91   \n",
       "\n",
       "                                 HC02_EST_VC79  \\\n",
       "0  Below poverty level; Estimate; Did not work   \n",
       "1                                          117   \n",
       "2                                           43   \n",
       "3                                          160   \n",
       "4                                          168   \n",
       "\n",
       "                                       HC02_MOE_VC79  \\\n",
       "0  Below poverty level; Margin of Error; Did not ...   \n",
       "1                                                 65   \n",
       "2                                                 32   \n",
       "3                                                 90   \n",
       "4                                                 80   \n",
       "\n",
       "                                       HC03_EST_VC79  \\\n",
       "0  Percent below poverty level; Estimate; Did not...   \n",
       "1                                               27.9   \n",
       "2                                               16.9   \n",
       "3                                               77.3   \n",
       "4                                               68.9   \n",
       "\n",
       "                                       HC03_MOE_VC79  \n",
       "0  Percent below poverty level; Margin of Error; ...  \n",
       "1                                               14.2  \n",
       "2                                               11.4  \n",
       "3                                               15.7  \n",
       "4                                               17.5  \n",
       "\n",
       "[5 rows x 369 columns]"
      ]
     },
     "execution_count": 49,
     "metadata": {},
     "output_type": "execute_result"
    }
   ],
   "source": [
    "APD_pov = pd.read_csv(APD_filepath + '\\\\37-00027_ACS_poverty\\ACS_16_5YR_S1701_with_ann.csv')\n",
    "print(APD_pov.shape)\n",
    "APD_pov.head()"
   ]
  },
  {
   "cell_type": "markdown",
   "metadata": {},
   "source": [
    "Each folder also contains a metadata file giving a brief description of the headings"
   ]
  },
  {
   "cell_type": "code",
   "execution_count": 33,
   "metadata": {},
   "outputs": [
    {
     "data": {
      "text/html": [
       "<div>\n",
       "<style scoped>\n",
       "    .dataframe tbody tr th:only-of-type {\n",
       "        vertical-align: middle;\n",
       "    }\n",
       "\n",
       "    .dataframe tbody tr th {\n",
       "        vertical-align: top;\n",
       "    }\n",
       "\n",
       "    .dataframe thead th {\n",
       "        text-align: right;\n",
       "    }\n",
       "</style>\n",
       "<table border=\"1\" class=\"dataframe\">\n",
       "  <thead>\n",
       "    <tr style=\"text-align: right;\">\n",
       "      <th></th>\n",
       "      <th>GEO.id</th>\n",
       "      <th>Id</th>\n",
       "    </tr>\n",
       "  </thead>\n",
       "  <tbody>\n",
       "    <tr>\n",
       "      <th>0</th>\n",
       "      <td>GEO.id2</td>\n",
       "      <td>Id2</td>\n",
       "    </tr>\n",
       "    <tr>\n",
       "      <th>1</th>\n",
       "      <td>GEO.display-label</td>\n",
       "      <td>Geography</td>\n",
       "    </tr>\n",
       "    <tr>\n",
       "      <th>2</th>\n",
       "      <td>HC01_EST_VC01</td>\n",
       "      <td>Total; Estimate; Population for whom poverty s...</td>\n",
       "    </tr>\n",
       "    <tr>\n",
       "      <th>3</th>\n",
       "      <td>HC01_MOE_VC01</td>\n",
       "      <td>Total; Margin of Error; Population for whom po...</td>\n",
       "    </tr>\n",
       "    <tr>\n",
       "      <th>4</th>\n",
       "      <td>HC02_EST_VC01</td>\n",
       "      <td>Below poverty level; Estimate; Population for ...</td>\n",
       "    </tr>\n",
       "  </tbody>\n",
       "</table>\n",
       "</div>"
      ],
      "text/plain": [
       "              GEO.id                                                 Id\n",
       "0            GEO.id2                                                Id2\n",
       "1  GEO.display-label                                          Geography\n",
       "2      HC01_EST_VC01  Total; Estimate; Population for whom poverty s...\n",
       "3      HC01_MOE_VC01  Total; Margin of Error; Population for whom po...\n",
       "4      HC02_EST_VC01  Below poverty level; Estimate; Population for ..."
      ]
     },
     "execution_count": 33,
     "metadata": {},
     "output_type": "execute_result"
    }
   ],
   "source": [
    "APD_desc = pd.read_csv(APD_filepath + '\\\\37-00027_ACS_poverty\\ACS_16_5YR_S1701_metadata.csv')\n",
    "APD_desc.head()"
   ]
  },
  {
   "cell_type": "markdown",
   "metadata": {},
   "source": [
    "Data appears to be grouped by Census Tract.\n",
    "From census.gov: Census Tracts are small, relatively permanent statistical subdivisions of a county or equivalent entity that are updated by local participants prior to each decennial census as part of the Census Bureau's Participant Statistical Areas Program. \n",
    "Lets look at the total population from each census tract. "
   ]
  },
  {
   "cell_type": "code",
   "execution_count": 101,
   "metadata": {},
   "outputs": [
    {
     "name": "stdout",
     "output_type": "stream",
     "text": [
      "<class 'pandas.core.frame.DataFrame'>\n",
      "RangeIndex: 219 entries, 0 to 218\n",
      "Columns: 369 entries, GEO.id to HC03_MOE_VC79\n",
      "dtypes: object(369)\n",
      "memory usage: 631.4+ KB\n"
     ]
    }
   ],
   "source": [
    "APD_pov.info()"
   ]
  },
  {
   "cell_type": "code",
   "execution_count": 102,
   "metadata": {},
   "outputs": [],
   "source": [
    "tot_pop = APD_pov['HC01_EST_VC01'][1:].astype(float)"
   ]
  },
  {
   "cell_type": "code",
   "execution_count": 103,
   "metadata": {},
   "outputs": [
    {
     "data": {
      "text/plain": [
       "<function matplotlib.pyplot.show>"
      ]
     },
     "execution_count": 103,
     "metadata": {},
     "output_type": "execute_result"
    },
    {
     "data": {
      "image/png": "[encoded data removed]",
      "text/plain": [
       "<matplotlib.figure.Figure at 0x10bb55c0>"
      ]
     },
     "metadata": {},
     "output_type": "display_data"
    }
   ],
   "source": [
    "plt.hist(x = tot_pop, bins = 20, color = 'purple')\n",
    "plt.ylabel('Count')\n",
    "plt.xlabel(\"Population\")\n",
    "plt.title('Population - by Census Tract')\n",
    "plt.show"
   ]
  },
  {
   "cell_type": "code",
   "execution_count": null,
   "metadata": {
    "collapsed": true
   },
   "outputs": [],
   "source": []
  }
 ],
 "metadata": {
  "kernelspec": {
   "display_name": "Python 3",
   "language": "python",
   "name": "python3"
  },
  "language_info": {
   "codemirror_mode": {
    "name": "ipython",
    "version": 3
   },
   "file_extension": ".py",
   "mimetype": "text/x-python",
   "name": "python",
   "nbconvert_exporter": "python",
   "pygments_lexer": "ipython3",
   "version": "3.6.3"
  }
 },
 "nbformat": 4,
 "nbformat_minor": 2
}
